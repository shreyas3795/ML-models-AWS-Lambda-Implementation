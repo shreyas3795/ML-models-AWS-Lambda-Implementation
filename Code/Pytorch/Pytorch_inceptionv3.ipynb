{
 "cells": [
  {
   "cell_type": "code",
   "execution_count": 1,
   "metadata": {},
   "outputs": [],
   "source": [
    "import time\n",
    "import torch\n",
    "from PIL import Image\n",
    "from torchvision import transforms\n",
    "#from torch.autograd import Variable\n",
    "import torchvision"
   ]
  },
  {
   "cell_type": "code",
   "execution_count": 2,
   "metadata": {},
   "outputs": [],
   "source": [
    "#Image preprocessing\n",
    "transform = transforms.Compose([transforms.Resize(256),transforms.CenterCrop(224),transforms.ToTensor(),transforms.Normalize(mean=[0.485, 0.456, 0.406],std=[0.229, 0.224, 0.225])])"
   ]
  },
  {
   "cell_type": "code",
   "execution_count": 3,
   "metadata": {},
   "outputs": [],
   "source": [
    "img = Image.open(\"/Users/shreyassetlurarun/Desktop/dog.jpeg\")\n",
    "input_tensor = transform(img)\n",
    "input_batch = input_tensor.unsqueeze(0)"
   ]
  },
  {
   "cell_type": "code",
   "execution_count": 4,
   "metadata": {},
   "outputs": [
    {
     "name": "stderr",
     "output_type": "stream",
     "text": [
      "Using cache found in /Users/shreyassetlurarun/.cache/torch/hub/pytorch_vision_v0.9.0\n",
      "Downloading: \"https://download.pytorch.org/models/inception_v3_google-1a9a5a14.pth\" to /Users/shreyassetlurarun/.cache/torch/hub/checkpoints/inception_v3_google-1a9a5a14.pth\n"
     ]
    },
    {
     "data": {
      "application/vnd.jupyter.widget-view+json": {
       "model_id": "7163d06c9dd84545a46abb4b4a9afc4d",
       "version_major": 2,
       "version_minor": 0
      },
      "text/plain": [
       "  0%|          | 0.00/104M [00:00<?, ?B/s]"
      ]
     },
     "metadata": {},
     "output_type": "display_data"
    },
    {
     "name": "stdout",
     "output_type": "stream",
     "text": [
      "Time for loading the model is 1.9854 seconds\n"
     ]
    }
   ],
   "source": [
    "tic = time.perf_counter()\n",
    "model = torch.hub.load('pytorch/vision:v0.9.0', 'inception_v3', pretrained=True)\n",
    "model.eval()\n",
    "toc = time.perf_counter()\n",
    "print(f\"Time for loading the model is {toc - tic:0.4f} seconds\")"
   ]
  },
  {
   "cell_type": "code",
   "execution_count": 5,
   "metadata": {},
   "outputs": [],
   "source": [
    "with torch.no_grad():\n",
    "    output = model(input_batch)\n",
    "#print(output[0])\n",
    "probabilities = torch.nn.functional.softmax(output[0], dim=0)\n",
    "#print(probabilities)"
   ]
  },
  {
   "cell_type": "code",
   "execution_count": 6,
   "metadata": {},
   "outputs": [
    {
     "name": "stdout",
     "output_type": "stream",
     "text": [
      "Time for prediction is 0.0022 seconds\n",
      "243: 'bull mastiff', 0.5074297785758972\n",
      "225: 'malinois', 0.1991388201713562\n",
      "159: 'Rhodesian ridgeback', 0.11739401519298553\n",
      "246: 'Great Dane', 0.08775166422128677\n",
      "262: 'Brabancon griffon', 0.075693778693676\n"
     ]
    }
   ],
   "source": [
    "tic = time.perf_counter()\n",
    "with open('/Users/shreyassetlurarun/Documents/SA_project/Pytorch/imagenet_classes.txt') as f:\n",
    "  categories = [line.strip() for line in f.readlines()]\n",
    "toc = time.perf_counter()\n",
    "print(f\"Time for prediction is {toc - tic:0.4f} seconds\")\n",
    "top5_prob, top5_catid = torch.topk(probabilities,5)\n",
    "for i in range(top5_prob.size(0)):\n",
    "    print(categories[top5_catid[i]], top5_prob[i].item())"
   ]
  },
  {
   "cell_type": "code",
   "execution_count": null,
   "metadata": {},
   "outputs": [],
   "source": []
  }
 ],
 "metadata": {
  "kernelspec": {
   "display_name": "Python 3",
   "language": "python",
   "name": "python3"
  },
  "language_info": {
   "codemirror_mode": {
    "name": "ipython",
    "version": 3
   },
   "file_extension": ".py",
   "mimetype": "text/x-python",
   "name": "python",
   "nbconvert_exporter": "python",
   "pygments_lexer": "ipython3",
   "version": "3.8.8"
  }
 },
 "nbformat": 4,
 "nbformat_minor": 4
}
